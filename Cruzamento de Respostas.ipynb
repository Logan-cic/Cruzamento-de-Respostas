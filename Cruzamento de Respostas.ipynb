{
 "cells": [
  {
   "cell_type": "code",
   "execution_count": 2,
   "id": "9fcd7edc",
   "metadata": {},
   "outputs": [
    {
     "data": {
      "text/plain": [
       "Index(['Carimbo de data/hora', 'Nome de usuário',\n",
       "       'Você concorda com os termos apresentados?', 'Qual sua faixa de idade?',\n",
       "       'Qual sua profissão/área de atuação?',\n",
       "       'Você reutiliza suas senhas em mais de uma conta?',\n",
       "       'Você compartilha senhas com amigos?',\n",
       "       'Você acessou ou acessa algum portal para verificar o comprometimento de suas contas na web?',\n",
       "       'Você troca suas senhas caso elas estejam comprometidas?',\n",
       "       'Você possui um padrão de senha para diferentes níveis de segurança?',\n",
       "       'Você costuma usar programas gerenciadores de senhas?',\n",
       "       'Você divulga seus dados em redes sociais?',\n",
       "       'Você já caiu em um golpe virtual?',\n",
       "       'Você sabe identificar SMS ou e-mails fraudulentos?',\n",
       "       'Você clica em links enviados por e-mail ou SMS?',\n",
       "       'Você fornece seus dados através de links enviados por e-mail ou SMS?',\n",
       "       'Você faz download de arquivos de fontes não oficiais (ex: torrent)?',\n",
       "       'Você sabe ou já ouviu falar em ataque phishing na internet?',\n",
       "       'Você já ouviu falar em criptografia? ',\n",
       "       'Quais informações listadas você utiliza para criar suas senhas(você pode marcar mais de uma)?'],\n",
       "      dtype='object')"
      ]
     },
     "execution_count": 2,
     "metadata": {},
     "output_type": "execute_result"
    }
   ],
   "source": [
    "import pandas as pd\n",
    "\n",
    "df = pd.read_csv('dataset.csv')\n",
    "df.columns"
   ]
  },
  {
   "cell_type": "markdown",
   "id": "141904c6",
   "metadata": {},
   "source": [
    "# Análise de P1"
   ]
  },
  {
   "cell_type": "code",
   "execution_count": 3,
   "id": "08fa2c58",
   "metadata": {},
   "outputs": [
    {
     "data": {
      "text/plain": [
       "Não    0.748031\n",
       "Sim    0.251969\n",
       "Name: Você acessou ou acessa algum portal para verificar o comprometimento de suas contas na web?, dtype: float64"
      ]
     },
     "execution_count": 3,
     "metadata": {},
     "output_type": "execute_result"
    }
   ],
   "source": [
    "df['Você acessou ou acessa algum portal para verificar o comprometimento de suas contas na web?'].value_counts(normalize=True)\n",
    "\n",
    "#74% das não acessa nenhum tipo de portal que verifica o comprometimento das suas senhas."
   ]
  },
  {
   "cell_type": "code",
   "execution_count": 4,
   "id": "b25677cb",
   "metadata": {},
   "outputs": [
    {
     "data": {
      "text/plain": [
       "Sim    0.937008\n",
       "Não    0.062992\n",
       "Name: Você troca suas senhas caso elas estejam comprometidas?, dtype: float64"
      ]
     },
     "execution_count": 4,
     "metadata": {},
     "output_type": "execute_result"
    }
   ],
   "source": [
    "df['Você troca suas senhas caso elas estejam comprometidas?'].value_counts(normalize=True)\n",
    "\n",
    "\n",
    "#93% dos usuários que respoderam ao questionário trocariam suas senhas\n",
    "#caso elas estejam comprometidas, ou seja, contidas dentro de algum vazemneto.\n"
   ]
  },
  {
   "cell_type": "code",
   "execution_count": 6,
   "id": "9727c768",
   "metadata": {},
   "outputs": [
    {
     "data": {
      "text/plain": [
       "Sim    0.926316\n",
       "Não    0.073684\n",
       "Name: Você troca suas senhas caso elas estejam comprometidas?, dtype: float64"
      ]
     },
     "execution_count": 6,
     "metadata": {},
     "output_type": "execute_result"
    }
   ],
   "source": [
    "df.loc[df['Você acessou ou acessa algum portal para verificar o comprometimento de suas contas na web?'] == 'Não']['Você troca suas senhas caso elas estejam comprometidas?'].value_counts(normalize=True)"
   ]
  },
  {
   "cell_type": "markdown",
   "id": "d60dcb4e",
   "metadata": {},
   "source": [
    "# P1\n",
    "\n",
    "Com base na análise feita com as respostas dos usuário é notorio que os mesmos sabem que precisam manter \n",
    "suas suas contas seguras, entretanto, a maioria não acessa nenhum portal que verifique o comprometimento \n",
    "de suas senhas. "
   ]
  },
  {
   "cell_type": "code",
   "execution_count": 29,
   "id": "c63bd420",
   "metadata": {},
   "outputs": [
    {
     "data": {
      "text/plain": [
       "Qual sua faixa de idade?  Você troca suas senhas caso elas estejam comprometidas?\n",
       "21 - 27 anos              Sim                                                        1.000000\n",
       "28 - 34 anos              Sim                                                        0.885714\n",
       "                          Não                                                        0.114286\n",
       "35 anos ou mais           Sim                                                        0.913043\n",
       "                          Não                                                        0.086957\n",
       "menos de 21               Sim                                                        0.935484\n",
       "                          Não                                                        0.064516\n",
       "Name: Você troca suas senhas caso elas estejam comprometidas?, dtype: float64"
      ]
     },
     "execution_count": 29,
     "metadata": {},
     "output_type": "execute_result"
    }
   ],
   "source": [
    "pergunta = 'Você troca suas senhas caso elas estejam comprometidas?'\n",
    "df.groupby(['Qual sua faixa de idade?'])[pergunta].value_counts(normalize=True)"
   ]
  },
  {
   "cell_type": "code",
   "execution_count": 30,
   "id": "0732c604",
   "metadata": {
    "scrolled": true
   },
   "outputs": [
    {
     "data": {
      "text/plain": [
       "Qual sua faixa de idade?  Você acessou ou acessa algum portal para verificar o comprometimento de suas contas na web?\n",
       "21 - 27 anos              Não                                                                                            0.736842\n",
       "                          Sim                                                                                            0.263158\n",
       "28 - 34 anos              Não                                                                                            0.685714\n",
       "                          Sim                                                                                            0.314286\n",
       "35 anos ou mais           Não                                                                                            0.739130\n",
       "                          Sim                                                                                            0.260870\n",
       "menos de 21               Não                                                                                            0.838710\n",
       "                          Sim                                                                                            0.161290\n",
       "Name: Você acessou ou acessa algum portal para verificar o comprometimento de suas contas na web?, dtype: float64"
      ]
     },
     "execution_count": 30,
     "metadata": {},
     "output_type": "execute_result"
    }
   ],
   "source": [
    "pergunta = 'Você acessou ou acessa algum portal para verificar o comprometimento de suas contas na web?'\n",
    "df.groupby(['Qual sua faixa de idade?'])[pergunta].value_counts(normalize=True)"
   ]
  },
  {
   "cell_type": "markdown",
   "id": "ddbe2bca",
   "metadata": {},
   "source": [
    "# P1\n",
    "\n",
    "100% dos usuários entre 21 e 27 anos trocariam suas senhas caso elas estivessem comprometidas. Contudo, dos 100% dos usuário, dessa mesma faixa de idade, apenas 26% acessa portais que verificam se há algum comprometimento nas suas senhas. \n",
    "\n",
    "O mesmo comportamento é notado nas demais faixas de idade."
   ]
  },
  {
   "cell_type": "markdown",
   "id": "c491be82",
   "metadata": {},
   "source": [
    "# Análise de P2"
   ]
  },
  {
   "cell_type": "code",
   "execution_count": 31,
   "id": "b04139e7",
   "metadata": {},
   "outputs": [
    {
     "data": {
      "text/plain": [
       "Não    0.535433\n",
       "Sim    0.464567\n",
       "Name: Você sabe ou já ouviu falar em ataque phishing na internet?, dtype: float64"
      ]
     },
     "execution_count": 31,
     "metadata": {},
     "output_type": "execute_result"
    }
   ],
   "source": [
    "df['Você sabe ou já ouviu falar em ataque phishing na internet?'].value_counts(normalize=True)"
   ]
  },
  {
   "cell_type": "code",
   "execution_count": 32,
   "id": "daa26db5",
   "metadata": {},
   "outputs": [
    {
     "data": {
      "text/plain": [
       "Sim    0.818898\n",
       "Não    0.181102\n",
       "Name: Você sabe identificar SMS ou e-mails fraudulentos?, dtype: float64"
      ]
     },
     "execution_count": 32,
     "metadata": {},
     "output_type": "execute_result"
    }
   ],
   "source": [
    "df['Você sabe identificar SMS ou e-mails fraudulentos?'].value_counts(normalize=True)"
   ]
  },
  {
   "cell_type": "code",
   "execution_count": 33,
   "id": "e883749f",
   "metadata": {},
   "outputs": [
    {
     "data": {
      "text/plain": [
       "Sim    0.735294\n",
       "Não    0.264706\n",
       "Name: Você sabe identificar SMS ou e-mails fraudulentos?, dtype: float64"
      ]
     },
     "execution_count": 33,
     "metadata": {},
     "output_type": "execute_result"
    }
   ],
   "source": [
    "df.loc[df['Você sabe ou já ouviu falar em ataque phishing na internet?'] == 'Não']['Você sabe identificar SMS ou e-mails fraudulentos?'].value_counts(normalize=True)"
   ]
  },
  {
   "cell_type": "code",
   "execution_count": 34,
   "id": "05bbc7a8",
   "metadata": {},
   "outputs": [
    {
     "data": {
      "text/plain": [
       "Qual sua faixa de idade?  Você sabe ou já ouviu falar em ataque phishing na internet?\n",
       "21 - 27 anos              Não                                                            0.552632\n",
       "                          Sim                                                            0.447368\n",
       "28 - 34 anos              Sim                                                            0.542857\n",
       "                          Não                                                            0.457143\n",
       "35 anos ou mais           Sim                                                            0.608696\n",
       "                          Não                                                            0.391304\n",
       "menos de 21               Não                                                            0.709677\n",
       "                          Sim                                                            0.290323\n",
       "Name: Você sabe ou já ouviu falar em ataque phishing na internet?, dtype: float64"
      ]
     },
     "execution_count": 34,
     "metadata": {},
     "output_type": "execute_result"
    }
   ],
   "source": [
    "pergunta = 'Você sabe ou já ouviu falar em ataque phishing na internet?'\n",
    "df.groupby(['Qual sua faixa de idade?'])[pergunta].value_counts(normalize=True)"
   ]
  },
  {
   "cell_type": "code",
   "execution_count": 35,
   "id": "4cfe0148",
   "metadata": {},
   "outputs": [
    {
     "data": {
      "text/plain": [
       "Qual sua faixa de idade?  Você sabe identificar SMS ou e-mails fraudulentos?\n",
       "21 - 27 anos              Sim                                                   0.842105\n",
       "                          Não                                                   0.157895\n",
       "28 - 34 anos              Sim                                                   0.971429\n",
       "                          Não                                                   0.028571\n",
       "35 anos ou mais           Sim                                                   0.782609\n",
       "                          Não                                                   0.217391\n",
       "menos de 21               Sim                                                   0.645161\n",
       "                          Não                                                   0.354839\n",
       "Name: Você sabe identificar SMS ou e-mails fraudulentos?, dtype: float64"
      ]
     },
     "execution_count": 35,
     "metadata": {},
     "output_type": "execute_result"
    }
   ],
   "source": [
    "pergunta = 'Você sabe identificar SMS ou e-mails fraudulentos?'\n",
    "df.groupby(['Qual sua faixa de idade?'])[pergunta].value_counts(normalize=True)"
   ]
  },
  {
   "cell_type": "markdown",
   "id": "d2abc69e",
   "metadata": {},
   "source": [
    "# Análise de P3 "
   ]
  },
  {
   "cell_type": "code",
   "execution_count": 36,
   "id": "55ec7c84",
   "metadata": {},
   "outputs": [
    {
     "data": {
      "text/plain": [
       "Não    0.874016\n",
       "Sim    0.125984\n",
       "Name: Você clica em links enviados por e-mail ou SMS?, dtype: float64"
      ]
     },
     "execution_count": 36,
     "metadata": {},
     "output_type": "execute_result"
    }
   ],
   "source": [
    "df['Você clica em links enviados por e-mail ou SMS?'].value_counts(normalize=True)"
   ]
  },
  {
   "cell_type": "code",
   "execution_count": 37,
   "id": "2d20488c",
   "metadata": {},
   "outputs": [
    {
     "data": {
      "text/plain": [
       "Não    0.503937\n",
       "Sim    0.496063\n",
       "Name: Você faz download de arquivos de fontes não oficiais (ex: torrent)?, dtype: float64"
      ]
     },
     "execution_count": 37,
     "metadata": {},
     "output_type": "execute_result"
    }
   ],
   "source": [
    "df['Você faz download de arquivos de fontes não oficiais (ex: torrent)?'].value_counts(normalize=True)"
   ]
  },
  {
   "cell_type": "code",
   "execution_count": 38,
   "id": "63777733",
   "metadata": {},
   "outputs": [
    {
     "data": {
      "text/plain": [
       "Sim    0.513514\n",
       "Não    0.486486\n",
       "Name: Você faz download de arquivos de fontes não oficiais (ex: torrent)?, dtype: float64"
      ]
     },
     "execution_count": 38,
     "metadata": {},
     "output_type": "execute_result"
    }
   ],
   "source": [
    "df.loc[df['Você clica em links enviados por e-mail ou SMS?'] == 'Não']['Você faz download de arquivos de fontes não oficiais (ex: torrent)?'].value_counts(normalize=True)"
   ]
  },
  {
   "cell_type": "code",
   "execution_count": 39,
   "id": "f5749dd3",
   "metadata": {},
   "outputs": [
    {
     "data": {
      "text/plain": [
       "Qual sua faixa de idade?  Você clica em links enviados por e-mail ou SMS?\n",
       "21 - 27 anos              Não                                                0.894737\n",
       "                          Sim                                                0.105263\n",
       "28 - 34 anos              Não                                                0.942857\n",
       "                          Sim                                                0.057143\n",
       "35 anos ou mais           Não                                                0.869565\n",
       "                          Sim                                                0.130435\n",
       "menos de 21               Não                                                0.774194\n",
       "                          Sim                                                0.225806\n",
       "Name: Você clica em links enviados por e-mail ou SMS?, dtype: float64"
      ]
     },
     "execution_count": 39,
     "metadata": {},
     "output_type": "execute_result"
    }
   ],
   "source": [
    "pergunta = 'Você clica em links enviados por e-mail ou SMS?'\n",
    "df.groupby(['Qual sua faixa de idade?'])[pergunta].value_counts(normalize=True)"
   ]
  },
  {
   "cell_type": "code",
   "execution_count": 40,
   "id": "31129a0f",
   "metadata": {},
   "outputs": [
    {
     "data": {
      "text/plain": [
       "Qual sua faixa de idade?  Você faz download de arquivos de fontes não oficiais (ex: torrent)?\n",
       "21 - 27 anos              Sim                                                                    0.526316\n",
       "                          Não                                                                    0.473684\n",
       "28 - 34 anos              Sim                                                                    0.514286\n",
       "                          Não                                                                    0.485714\n",
       "35 anos ou mais           Não                                                                    0.826087\n",
       "                          Sim                                                                    0.173913\n",
       "menos de 21               Sim                                                                    0.677419\n",
       "                          Não                                                                    0.322581\n",
       "Name: Você faz download de arquivos de fontes não oficiais (ex: torrent)?, dtype: float64"
      ]
     },
     "execution_count": 40,
     "metadata": {},
     "output_type": "execute_result"
    }
   ],
   "source": [
    "pergunta = 'Você faz download de arquivos de fontes não oficiais (ex: torrent)?'\n",
    "df.groupby(['Qual sua faixa de idade?'])[pergunta].value_counts(normalize=True)"
   ]
  },
  {
   "cell_type": "markdown",
   "id": "624aa361",
   "metadata": {},
   "source": [
    "# Análise P4"
   ]
  },
  {
   "cell_type": "code",
   "execution_count": 41,
   "id": "e6f94850",
   "metadata": {},
   "outputs": [
    {
     "data": {
      "text/plain": [
       "Sim    0.811024\n",
       "Não    0.188976\n",
       "Name: Você reutiliza suas senhas em mais de uma conta?, dtype: float64"
      ]
     },
     "execution_count": 41,
     "metadata": {},
     "output_type": "execute_result"
    }
   ],
   "source": [
    "df['Você reutiliza suas senhas em mais de uma conta?'].value_counts(normalize=True)"
   ]
  },
  {
   "cell_type": "code",
   "execution_count": 42,
   "id": "7032697f",
   "metadata": {},
   "outputs": [
    {
     "data": {
      "text/plain": [
       "Não    0.80315\n",
       "Sim    0.19685\n",
       "Name: Você costuma usar programas gerenciadores de senhas?, dtype: float64"
      ]
     },
     "execution_count": 42,
     "metadata": {},
     "output_type": "execute_result"
    }
   ],
   "source": [
    "df['Você costuma usar programas gerenciadores de senhas?'].value_counts(normalize=True)"
   ]
  },
  {
   "cell_type": "code",
   "execution_count": 43,
   "id": "46f94c0b",
   "metadata": {},
   "outputs": [
    {
     "data": {
      "text/plain": [
       "Não    0.825243\n",
       "Sim    0.174757\n",
       "Name: Você costuma usar programas gerenciadores de senhas?, dtype: float64"
      ]
     },
     "execution_count": 43,
     "metadata": {},
     "output_type": "execute_result"
    }
   ],
   "source": [
    "df.loc[df['Você reutiliza suas senhas em mais de uma conta?'] == 'Sim']['Você costuma usar programas gerenciadores de senhas?'].value_counts(normalize=True)"
   ]
  },
  {
   "cell_type": "code",
   "execution_count": 44,
   "id": "0a8408d2",
   "metadata": {},
   "outputs": [
    {
     "data": {
      "text/plain": [
       "Qual sua faixa de idade?  Você reutiliza suas senhas em mais de uma conta?\n",
       "21 - 27 anos              Sim                                                 0.684211\n",
       "                          Não                                                 0.315789\n",
       "28 - 34 anos              Sim                                                 0.914286\n",
       "                          Não                                                 0.085714\n",
       "35 anos ou mais           Sim                                                 0.652174\n",
       "                          Não                                                 0.347826\n",
       "menos de 21               Sim                                                 0.967742\n",
       "                          Não                                                 0.032258\n",
       "Name: Você reutiliza suas senhas em mais de uma conta?, dtype: float64"
      ]
     },
     "execution_count": 44,
     "metadata": {},
     "output_type": "execute_result"
    }
   ],
   "source": [
    "pergunta = 'Você reutiliza suas senhas em mais de uma conta?'\n",
    "df.groupby(['Qual sua faixa de idade?'])[pergunta].value_counts(normalize=True)"
   ]
  },
  {
   "cell_type": "code",
   "execution_count": 45,
   "id": "20374471",
   "metadata": {},
   "outputs": [
    {
     "data": {
      "text/plain": [
       "Qual sua faixa de idade?  Você costuma usar programas gerenciadores de senhas?\n",
       "21 - 27 anos              Não                                                     0.710526\n",
       "                          Sim                                                     0.289474\n",
       "28 - 34 anos              Não                                                     0.800000\n",
       "                          Sim                                                     0.200000\n",
       "35 anos ou mais           Não                                                     0.869565\n",
       "                          Sim                                                     0.130435\n",
       "menos de 21               Não                                                     0.870968\n",
       "                          Sim                                                     0.129032\n",
       "Name: Você costuma usar programas gerenciadores de senhas?, dtype: float64"
      ]
     },
     "execution_count": 45,
     "metadata": {},
     "output_type": "execute_result"
    }
   ],
   "source": [
    "pergunta = 'Você costuma usar programas gerenciadores de senhas?'\n",
    "df.groupby(['Qual sua faixa de idade?'])[pergunta].value_counts(normalize=True)"
   ]
  }
 ],
 "metadata": {
  "kernelspec": {
   "display_name": "Python 3 (ipykernel)",
   "language": "python",
   "name": "python3"
  },
  "language_info": {
   "codemirror_mode": {
    "name": "ipython",
    "version": 3
   },
   "file_extension": ".py",
   "mimetype": "text/x-python",
   "name": "python",
   "nbconvert_exporter": "python",
   "pygments_lexer": "ipython3",
   "version": "3.9.7"
  }
 },
 "nbformat": 4,
 "nbformat_minor": 5
}
